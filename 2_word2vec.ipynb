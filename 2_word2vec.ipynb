{
  "nbformat": 4,
  "nbformat_minor": 0,
  "metadata": {
    "accelerator": "GPU",
    "colab": {
      "name": "2_word2vec.ipynb",
      "provenance": [],
      "collapsed_sections": [],
      "toc_visible": true,
      "include_colab_link": true
    },
    "kernelspec": {
      "display_name": "Python 3",
      "name": "python3"
    }
  },
  "cells": [
    {
      "cell_type": "markdown",
      "metadata": {
        "id": "view-in-github",
        "colab_type": "text"
      },
      "source": [
        "<a href=\"https://colab.research.google.com/github/Jo-ad-fontes/NLP/blob/main/2_word2vec.ipynb\" target=\"_parent\"><img src=\"https://colab.research.google.com/assets/colab-badge.svg\" alt=\"Open In Colab\"/></a>"
      ]
    },
    {
      "cell_type": "markdown",
      "metadata": {
        "id": "h3FAK0fz1kOr"
      },
      "source": [
        "##**2. Word2Vec**\r\n",
        "1. 주어진 단어들을 word2vec 모델에 들어갈 수 있는 형태로 만듭니다.\r\n",
        "2. CBOW, Skip-gram 모델을 각각 구현합니다.\r\n",
        "3. 모델을 실제로 학습해보고 결과를 확인합니다."
      ]
    },
    {
      "cell_type": "markdown",
      "metadata": {
        "id": "u9FrxTPWIsct"
      },
      "source": [
        "### **필요 패키지 import**"
      ]
    },
    {
      "cell_type": "code",
      "metadata": {
        "id": "QjroCdtwI9Rz",
        "colab": {
          "base_uri": "https://localhost:8080/"
        },
        "outputId": "f791b580-69a0-4a9c-eacb-db15ab9bcbc4"
      },
      "source": [
        "!pip install konlpy"
      ],
      "execution_count": null,
      "outputs": [
        {
          "output_type": "stream",
          "text": [
            "Collecting konlpy\n",
            "\u001b[?25l  Downloading https://files.pythonhosted.org/packages/85/0e/f385566fec837c0b83f216b2da65db9997b35dd675e107752005b7d392b1/konlpy-0.5.2-py2.py3-none-any.whl (19.4MB)\n",
            "\u001b[K     |████████████████████████████████| 19.4MB 1.2MB/s \n",
            "\u001b[?25hRequirement already satisfied: lxml>=4.1.0 in /usr/local/lib/python3.6/dist-packages (from konlpy) (4.2.6)\n",
            "Collecting colorama\n",
            "  Downloading https://files.pythonhosted.org/packages/44/98/5b86278fbbf250d239ae0ecb724f8572af1c91f4a11edf4d36a206189440/colorama-0.4.4-py2.py3-none-any.whl\n",
            "Collecting beautifulsoup4==4.6.0\n",
            "\u001b[?25l  Downloading https://files.pythonhosted.org/packages/9e/d4/10f46e5cfac773e22707237bfcd51bbffeaf0a576b0a847ec7ab15bd7ace/beautifulsoup4-4.6.0-py3-none-any.whl (86kB)\n",
            "\u001b[K     |████████████████████████████████| 92kB 12.6MB/s \n",
            "\u001b[?25hCollecting tweepy>=3.7.0\n",
            "  Downloading https://files.pythonhosted.org/packages/67/c3/6bed87f3b1e5ed2f34bd58bf7978e308c86e255193916be76e5a5ce5dfca/tweepy-3.10.0-py2.py3-none-any.whl\n",
            "Requirement already satisfied: numpy>=1.6 in /usr/local/lib/python3.6/dist-packages (from konlpy) (1.19.5)\n",
            "Collecting JPype1>=0.7.0\n",
            "\u001b[?25l  Downloading https://files.pythonhosted.org/packages/de/af/93f92b38ec1ff3091cd38982ed19cea2800fefb609b5801c41fc43c0781e/JPype1-1.2.1-cp36-cp36m-manylinux2010_x86_64.whl (457kB)\n",
            "\u001b[K     |████████████████████████████████| 460kB 57.1MB/s \n",
            "\u001b[?25hRequirement already satisfied: requests-oauthlib>=0.7.0 in /usr/local/lib/python3.6/dist-packages (from tweepy>=3.7.0->konlpy) (1.3.0)\n",
            "Requirement already satisfied: requests[socks]>=2.11.1 in /usr/local/lib/python3.6/dist-packages (from tweepy>=3.7.0->konlpy) (2.23.0)\n",
            "Requirement already satisfied: six>=1.10.0 in /usr/local/lib/python3.6/dist-packages (from tweepy>=3.7.0->konlpy) (1.15.0)\n",
            "Requirement already satisfied: typing-extensions; python_version < \"3.8\" in /usr/local/lib/python3.6/dist-packages (from JPype1>=0.7.0->konlpy) (3.7.4.3)\n",
            "Requirement already satisfied: oauthlib>=3.0.0 in /usr/local/lib/python3.6/dist-packages (from requests-oauthlib>=0.7.0->tweepy>=3.7.0->konlpy) (3.1.0)\n",
            "Requirement already satisfied: certifi>=2017.4.17 in /usr/local/lib/python3.6/dist-packages (from requests[socks]>=2.11.1->tweepy>=3.7.0->konlpy) (2020.12.5)\n",
            "Requirement already satisfied: idna<3,>=2.5 in /usr/local/lib/python3.6/dist-packages (from requests[socks]>=2.11.1->tweepy>=3.7.0->konlpy) (2.10)\n",
            "Requirement already satisfied: chardet<4,>=3.0.2 in /usr/local/lib/python3.6/dist-packages (from requests[socks]>=2.11.1->tweepy>=3.7.0->konlpy) (3.0.4)\n",
            "Requirement already satisfied: urllib3!=1.25.0,!=1.25.1,<1.26,>=1.21.1 in /usr/local/lib/python3.6/dist-packages (from requests[socks]>=2.11.1->tweepy>=3.7.0->konlpy) (1.24.3)\n",
            "Requirement already satisfied: PySocks!=1.5.7,>=1.5.6; extra == \"socks\" in /usr/local/lib/python3.6/dist-packages (from requests[socks]>=2.11.1->tweepy>=3.7.0->konlpy) (1.7.1)\n",
            "Installing collected packages: colorama, beautifulsoup4, tweepy, JPype1, konlpy\n",
            "  Found existing installation: beautifulsoup4 4.6.3\n",
            "    Uninstalling beautifulsoup4-4.6.3:\n",
            "      Successfully uninstalled beautifulsoup4-4.6.3\n",
            "  Found existing installation: tweepy 3.6.0\n",
            "    Uninstalling tweepy-3.6.0:\n",
            "      Successfully uninstalled tweepy-3.6.0\n",
            "Successfully installed JPype1-1.2.1 beautifulsoup4-4.6.0 colorama-0.4.4 konlpy-0.5.2 tweepy-3.10.0\n"
          ],
          "name": "stdout"
        }
      ]
    },
    {
      "cell_type": "code",
      "metadata": {
        "id": "nSP7aXfJIr3i"
      },
      "source": [
        "from tqdm import tqdm\r\n",
        "from konlpy.tag import Okt\r\n",
        "from torch import nn\r\n",
        "from torch.nn import functional as F\r\n",
        "from torch.utils.data import Dataset, DataLoader\r\n",
        "from collections import defaultdict\r\n",
        "\r\n",
        "import torch\r\n",
        "import copy\r\n",
        "import numpy as np"
      ],
      "execution_count": null,
      "outputs": []
    },
    {
      "cell_type": "markdown",
      "metadata": {
        "id": "qugro74yJASr"
      },
      "source": [
        "### **데이터 전처리**"
      ]
    },
    {
      "cell_type": "markdown",
      "metadata": {
        "id": "Q36dfSRRJDtX"
      },
      "source": [
        "\r\n",
        "\r\n",
        "데이터를 확인하고 Word2Vec 형식에 맞게 전처리합니다.  \r\n",
        "학습 데이터는 1번 실습과 동일하고, 테스트를 위한 단어를 아래와 같이 가정해봅시다."
      ]
    },
    {
      "cell_type": "code",
      "metadata": {
        "id": "CLZ2f-lRJSus"
      },
      "source": [
        "train_data = [\r\n",
        "  \"정말 맛있습니다. 추천합니다.\",\r\n",
        "  \"기대했던 것보단 별로였네요.\",\r\n",
        "  \"다 좋은데 가격이 너무 비싸서 다시 가고 싶다는 생각이 안 드네요.\",\r\n",
        "  \"완전 최고입니다! 재방문 의사 있습니다.\",\r\n",
        "  \"음식도 서비스도 다 만족스러웠습니다.\",\r\n",
        "  \"위생 상태가 좀 별로였습니다. 좀 더 개선되기를 바랍니다.\",\r\n",
        "  \"맛도 좋았고 직원분들 서비스도 너무 친절했습니다.\",\r\n",
        "  \"기념일에 방문했는데 음식도 분위기도 서비스도 다 좋았습니다.\",\r\n",
        "  \"전반적으로 음식이 너무 짰습니다. 저는 별로였네요.\",\r\n",
        "  \"위생에 조금 더 신경 썼으면 좋겠습니다. 조금 불쾌했습니다.\"       \r\n",
        "]\r\n",
        "\r\n",
        "test_words = [\"음식\", \"맛\", \"서비스\", \"위생\", \"가격\"]"
      ],
      "execution_count": null,
      "outputs": []
    },
    {
      "cell_type": "markdown",
      "metadata": {
        "id": "vReElaFSLBYL"
      },
      "source": [
        "Tokenization과 vocab을 만드는 과정은 이전 실습과 유사합니다."
      ]
    },
    {
      "cell_type": "code",
      "metadata": {
        "id": "dTjlRzmWMDK_"
      },
      "source": [
        "tokenizer = Okt()"
      ],
      "execution_count": null,
      "outputs": []
    },
    {
      "cell_type": "code",
      "metadata": {
        "id": "0DTUsX672icp"
      },
      "source": [
        "def make_tokenized(data):\r\n",
        "  tokenized = []\r\n",
        "  for sent in tqdm(data):\r\n",
        "    tokens = tokenizer.morphs(sent, stem=True)\r\n",
        "    tokenized.append(tokens)\r\n",
        "\r\n",
        "  return tokenized"
      ],
      "execution_count": null,
      "outputs": []
    },
    {
      "cell_type": "code",
      "metadata": {
        "id": "C-z0z6HD2rrX",
        "colab": {
          "base_uri": "https://localhost:8080/"
        },
        "outputId": "ceb7239c-ddcb-4249-c51f-6f6a9a136a43"
      },
      "source": [
        "train_tokenized = make_tokenized(train_data)"
      ],
      "execution_count": null,
      "outputs": [
        {
          "output_type": "stream",
          "text": [
            "100%|██████████| 10/10 [00:05<00:00,  1.88it/s]\n"
          ],
          "name": "stderr"
        }
      ]
    },
    {
      "cell_type": "code",
      "metadata": {
        "id": "51exEpI0Mc3l",
        "colab": {
          "base_uri": "https://localhost:8080/"
        },
        "outputId": "09a8a37e-2713-43a1-e3c2-0a97666a5fbb"
      },
      "source": [
        "word_count = defaultdict(int)\r\n",
        "\r\n",
        "for tokens in tqdm(train_tokenized):\r\n",
        "  for token in tokens:\r\n",
        "    word_count[token] += 1"
      ],
      "execution_count": null,
      "outputs": [
        {
          "output_type": "stream",
          "text": [
            "100%|██████████| 10/10 [00:00<00:00, 4473.45it/s]\n"
          ],
          "name": "stderr"
        }
      ]
    },
    {
      "cell_type": "code",
      "metadata": {
        "id": "gyvHAMAnMh1D",
        "colab": {
          "base_uri": "https://localhost:8080/"
        },
        "outputId": "492966d5-2b27-4a1c-c91a-e42c42c357f9"
      },
      "source": [
        "word_count = sorted(word_count.items(), key=lambda x: x[1], reverse=True)\r\n",
        "print(list(word_count))"
      ],
      "execution_count": null,
      "outputs": [
        {
          "output_type": "stream",
          "text": [
            "[('.', 14), ('도', 7), ('이다', 4), ('좋다', 4), ('별로', 3), ('다', 3), ('이', 3), ('너무', 3), ('음식', 3), ('서비스', 3), ('하다', 2), ('방문', 2), ('위생', 2), ('좀', 2), ('더', 2), ('에', 2), ('조금', 2), ('정말', 1), ('맛있다', 1), ('추천', 1), ('기대하다', 1), ('것', 1), ('보단', 1), ('가격', 1), ('비싸다', 1), ('다시', 1), ('가다', 1), ('싶다', 1), ('생각', 1), ('안', 1), ('드네', 1), ('요', 1), ('완전', 1), ('최고', 1), ('!', 1), ('재', 1), ('의사', 1), ('있다', 1), ('만족스럽다', 1), ('상태', 1), ('가', 1), ('개선', 1), ('되다', 1), ('기르다', 1), ('바라다', 1), ('맛', 1), ('직원', 1), ('분들', 1), ('친절하다', 1), ('기념일', 1), ('분위기', 1), ('전반', 1), ('적', 1), ('으로', 1), ('짜다', 1), ('저', 1), ('는', 1), ('신경', 1), ('써다', 1), ('불쾌하다', 1)]\n"
          ],
          "name": "stdout"
        }
      ]
    },
    {
      "cell_type": "code",
      "metadata": {
        "id": "DaK_i3zL2vO3",
        "colab": {
          "base_uri": "https://localhost:8080/"
        },
        "outputId": "523c668d-bea9-47cd-9a9f-1dc005e6403b"
      },
      "source": [
        "w2i = {}\r\n",
        "for pair in tqdm(word_count):\r\n",
        "  if pair[0] not in w2i:\r\n",
        "    w2i[pair[0]] = len(w2i)"
      ],
      "execution_count": null,
      "outputs": [
        {
          "output_type": "stream",
          "text": [
            "100%|██████████| 60/60 [00:00<00:00, 9747.39it/s]\n"
          ],
          "name": "stderr"
        }
      ]
    },
    {
      "cell_type": "code",
      "metadata": {
        "id": "LiGqiEGDL5B_",
        "colab": {
          "base_uri": "https://localhost:8080/"
        },
        "outputId": "91294982-dfb5-4456-ccd4-48ff1cebffa3"
      },
      "source": [
        "print(train_tokenized)\r\n",
        "print(w2i)"
      ],
      "execution_count": null,
      "outputs": [
        {
          "output_type": "stream",
          "text": [
            "[['정말', '맛있다', '.', '추천', '하다', '.'], ['기대하다', '것', '보단', '별로', '이다', '.'], ['다', '좋다', '가격', '이', '너무', '비싸다', '다시', '가다', '싶다', '생각', '이', '안', '드네', '요', '.'], ['완전', '최고', '이다', '!', '재', '방문', '의사', '있다', '.'], ['음식', '도', '서비스', '도', '다', '만족스럽다', '.'], ['위생', '상태', '가', '좀', '별로', '이다', '.', '좀', '더', '개선', '되다', '기르다', '바라다', '.'], ['맛', '도', '좋다', '직원', '분들', '서비스', '도', '너무', '친절하다', '.'], ['기념일', '에', '방문', '하다', '음식', '도', '분위기', '도', '서비스', '도', '다', '좋다', '.'], ['전반', '적', '으로', '음식', '이', '너무', '짜다', '.', '저', '는', '별로', '이다', '.'], ['위생', '에', '조금', '더', '신경', '써다', '좋다', '.', '조금', '불쾌하다', '.']]\n",
            "{'.': 0, '도': 1, '이다': 2, '좋다': 3, '별로': 4, '다': 5, '이': 6, '너무': 7, '음식': 8, '서비스': 9, '하다': 10, '방문': 11, '위생': 12, '좀': 13, '더': 14, '에': 15, '조금': 16, '정말': 17, '맛있다': 18, '추천': 19, '기대하다': 20, '것': 21, '보단': 22, '가격': 23, '비싸다': 24, '다시': 25, '가다': 26, '싶다': 27, '생각': 28, '안': 29, '드네': 30, '요': 31, '완전': 32, '최고': 33, '!': 34, '재': 35, '의사': 36, '있다': 37, '만족스럽다': 38, '상태': 39, '가': 40, '개선': 41, '되다': 42, '기르다': 43, '바라다': 44, '맛': 45, '직원': 46, '분들': 47, '친절하다': 48, '기념일': 49, '분위기': 50, '전반': 51, '적': 52, '으로': 53, '짜다': 54, '저': 55, '는': 56, '신경': 57, '써다': 58, '불쾌하다': 59}\n"
          ],
          "name": "stdout"
        }
      ]
    },
    {
      "cell_type": "markdown",
      "metadata": {
        "id": "vXA5zaPPM3Wd"
      },
      "source": [
        "실제 모델에 들어가기 위한 input을 만들기 위해 `Dataset` 클래스를 정의합니다."
      ]
    },
    {
      "cell_type": "code",
      "metadata": {
        "id": "s47ssyVt89t1"
      },
      "source": [
        "class CBOWDataset(Dataset):\r\n",
        "  def __init__(self, train_tokenized, window_size=2):\r\n",
        "    self.x = []\r\n",
        "    self.y = []\r\n",
        "\r\n",
        "    for tokens in tqdm(train_tokenized):\r\n",
        "      token_ids = [w2i[token] for token in tokens]\r\n",
        "      for i, id in enumerate(token_ids):\r\n",
        "        if i-window_size >= 0 and i+window_size < len(token_ids):\r\n",
        "          self.x.append(token_ids[i-window_size:i] + token_ids[i+1:i+window_size+1])\r\n",
        "          self.y.append(id)\r\n",
        "\r\n",
        "    self.x = torch.LongTensor(self.x)  # (전체 데이터 개수, 2 * window_size)\r\n",
        "    self.y = torch.LongTensor(self.y)  # (전체 데이터 개수)\r\n",
        "\r\n",
        "  def __len__(self):\r\n",
        "    return self.x.shape[0]\r\n",
        "\r\n",
        "  def __getitem__(self, idx):\r\n",
        "    return self.x[idx], self.y[idx]"
      ],
      "execution_count": null,
      "outputs": []
    },
    {
      "cell_type": "code",
      "metadata": {
        "id": "kvInhQ33AMJv"
      },
      "source": [
        "class SkipGramDataset(Dataset):\r\n",
        "  def __init__(self, train_tokenized, window_size=2):\r\n",
        "    self.x = []\r\n",
        "    self.y = []\r\n",
        "\r\n",
        "    for tokens in tqdm(train_tokenized):\r\n",
        "      token_ids = [w2i[token] for token in tokens]\r\n",
        "      for i, id in enumerate(token_ids):\r\n",
        "        if i-window_size >= 0 and i+window_size < len(token_ids):\r\n",
        "          self.y += (token_ids[i-window_size:i] + token_ids[i+1:i+window_size+1])\r\n",
        "          self.x += [id] * 2 * window_size\r\n",
        "\r\n",
        "    self.x = torch.LongTensor(self.x)  # (전체 데이터 개수)\r\n",
        "    self.y = torch.LongTensor(self.y)  # (전체 데이터 개수)\r\n",
        "\r\n",
        "  def __len__(self):\r\n",
        "    return self.x.shape[0]\r\n",
        "\r\n",
        "  def __getitem__(self, idx):\r\n",
        "    return self.x[idx], self.y[idx]"
      ],
      "execution_count": null,
      "outputs": []
    },
    {
      "cell_type": "markdown",
      "metadata": {
        "id": "JyAGV5IUUba0"
      },
      "source": [
        "각 모델에 맞는 `Dataset` 객체를 생성합니다."
      ]
    },
    {
      "cell_type": "code",
      "metadata": {
        "id": "5ep7Hm6oBWyy",
        "colab": {
          "base_uri": "https://localhost:8080/"
        },
        "outputId": "99871586-df7e-4134-bc42-7e4de8f4e432"
      },
      "source": [
        "cbow_set = CBOWDataset(train_tokenized)\r\n",
        "skipgram_set = SkipGramDataset(train_tokenized)\r\n",
        "print(list(skipgram_set))"
      ],
      "execution_count": null,
      "outputs": [
        {
          "output_type": "stream",
          "text": [
            "100%|██████████| 10/10 [00:00<00:00, 8031.99it/s]\n",
            "100%|██████████| 10/10 [00:00<00:00, 33797.78it/s]"
          ],
          "name": "stderr"
        },
        {
          "output_type": "stream",
          "text": [
            "[(tensor(0), tensor(17)), (tensor(0), tensor(18)), (tensor(0), tensor(19)), (tensor(0), tensor(10)), (tensor(19), tensor(18)), (tensor(19), tensor(0)), (tensor(19), tensor(10)), (tensor(19), tensor(0)), (tensor(22), tensor(20)), (tensor(22), tensor(21)), (tensor(22), tensor(4)), (tensor(22), tensor(2)), (tensor(4), tensor(21)), (tensor(4), tensor(22)), (tensor(4), tensor(2)), (tensor(4), tensor(0)), (tensor(23), tensor(5)), (tensor(23), tensor(3)), (tensor(23), tensor(6)), (tensor(23), tensor(7)), (tensor(6), tensor(3)), (tensor(6), tensor(23)), (tensor(6), tensor(7)), (tensor(6), tensor(24)), (tensor(7), tensor(23)), (tensor(7), tensor(6)), (tensor(7), tensor(24)), (tensor(7), tensor(25)), (tensor(24), tensor(6)), (tensor(24), tensor(7)), (tensor(24), tensor(25)), (tensor(24), tensor(26)), (tensor(25), tensor(7)), (tensor(25), tensor(24)), (tensor(25), tensor(26)), (tensor(25), tensor(27)), (tensor(26), tensor(24)), (tensor(26), tensor(25)), (tensor(26), tensor(27)), (tensor(26), tensor(28)), (tensor(27), tensor(25)), (tensor(27), tensor(26)), (tensor(27), tensor(28)), (tensor(27), tensor(6)), (tensor(28), tensor(26)), (tensor(28), tensor(27)), (tensor(28), tensor(6)), (tensor(28), tensor(29)), (tensor(6), tensor(27)), (tensor(6), tensor(28)), (tensor(6), tensor(29)), (tensor(6), tensor(30)), (tensor(29), tensor(28)), (tensor(29), tensor(6)), (tensor(29), tensor(30)), (tensor(29), tensor(31)), (tensor(30), tensor(6)), (tensor(30), tensor(29)), (tensor(30), tensor(31)), (tensor(30), tensor(0)), (tensor(2), tensor(32)), (tensor(2), tensor(33)), (tensor(2), tensor(34)), (tensor(2), tensor(35)), (tensor(34), tensor(33)), (tensor(34), tensor(2)), (tensor(34), tensor(35)), (tensor(34), tensor(11)), (tensor(35), tensor(2)), (tensor(35), tensor(34)), (tensor(35), tensor(11)), (tensor(35), tensor(36)), (tensor(11), tensor(34)), (tensor(11), tensor(35)), (tensor(11), tensor(36)), (tensor(11), tensor(37)), (tensor(36), tensor(35)), (tensor(36), tensor(11)), (tensor(36), tensor(37)), (tensor(36), tensor(0)), (tensor(9), tensor(8)), (tensor(9), tensor(1)), (tensor(9), tensor(1)), (tensor(9), tensor(5)), (tensor(1), tensor(1)), (tensor(1), tensor(9)), (tensor(1), tensor(5)), (tensor(1), tensor(38)), (tensor(5), tensor(9)), (tensor(5), tensor(1)), (tensor(5), tensor(38)), (tensor(5), tensor(0)), (tensor(40), tensor(12)), (tensor(40), tensor(39)), (tensor(40), tensor(13)), (tensor(40), tensor(4)), (tensor(13), tensor(39)), (tensor(13), tensor(40)), (tensor(13), tensor(4)), (tensor(13), tensor(2)), (tensor(4), tensor(40)), (tensor(4), tensor(13)), (tensor(4), tensor(2)), (tensor(4), tensor(0)), (tensor(2), tensor(13)), (tensor(2), tensor(4)), (tensor(2), tensor(0)), (tensor(2), tensor(13)), (tensor(0), tensor(4)), (tensor(0), tensor(2)), (tensor(0), tensor(13)), (tensor(0), tensor(14)), (tensor(13), tensor(2)), (tensor(13), tensor(0)), (tensor(13), tensor(14)), (tensor(13), tensor(41)), (tensor(14), tensor(0)), (tensor(14), tensor(13)), (tensor(14), tensor(41)), (tensor(14), tensor(42)), (tensor(41), tensor(13)), (tensor(41), tensor(14)), (tensor(41), tensor(42)), (tensor(41), tensor(43)), (tensor(42), tensor(14)), (tensor(42), tensor(41)), (tensor(42), tensor(43)), (tensor(42), tensor(44)), (tensor(43), tensor(41)), (tensor(43), tensor(42)), (tensor(43), tensor(44)), (tensor(43), tensor(0)), (tensor(3), tensor(45)), (tensor(3), tensor(1)), (tensor(3), tensor(46)), (tensor(3), tensor(47)), (tensor(46), tensor(1)), (tensor(46), tensor(3)), (tensor(46), tensor(47)), (tensor(46), tensor(9)), (tensor(47), tensor(3)), (tensor(47), tensor(46)), (tensor(47), tensor(9)), (tensor(47), tensor(1)), (tensor(9), tensor(46)), (tensor(9), tensor(47)), (tensor(9), tensor(1)), (tensor(9), tensor(7)), (tensor(1), tensor(47)), (tensor(1), tensor(9)), (tensor(1), tensor(7)), (tensor(1), tensor(48)), (tensor(7), tensor(9)), (tensor(7), tensor(1)), (tensor(7), tensor(48)), (tensor(7), tensor(0)), (tensor(11), tensor(49)), (tensor(11), tensor(15)), (tensor(11), tensor(10)), (tensor(11), tensor(8)), (tensor(10), tensor(15)), (tensor(10), tensor(11)), (tensor(10), tensor(8)), (tensor(10), tensor(1)), (tensor(8), tensor(11)), (tensor(8), tensor(10)), (tensor(8), tensor(1)), (tensor(8), tensor(50)), (tensor(1), tensor(10)), (tensor(1), tensor(8)), (tensor(1), tensor(50)), (tensor(1), tensor(1)), (tensor(50), tensor(8)), (tensor(50), tensor(1)), (tensor(50), tensor(1)), (tensor(50), tensor(9)), (tensor(1), tensor(1)), (tensor(1), tensor(50)), (tensor(1), tensor(9)), (tensor(1), tensor(1)), (tensor(9), tensor(50)), (tensor(9), tensor(1)), (tensor(9), tensor(1)), (tensor(9), tensor(5)), (tensor(1), tensor(1)), (tensor(1), tensor(9)), (tensor(1), tensor(5)), (tensor(1), tensor(3)), (tensor(5), tensor(9)), (tensor(5), tensor(1)), (tensor(5), tensor(3)), (tensor(5), tensor(0)), (tensor(53), tensor(51)), (tensor(53), tensor(52)), (tensor(53), tensor(8)), (tensor(53), tensor(6)), (tensor(8), tensor(52)), (tensor(8), tensor(53)), (tensor(8), tensor(6)), (tensor(8), tensor(7)), (tensor(6), tensor(53)), (tensor(6), tensor(8)), (tensor(6), tensor(7)), (tensor(6), tensor(54)), (tensor(7), tensor(8)), (tensor(7), tensor(6)), (tensor(7), tensor(54)), (tensor(7), tensor(0)), (tensor(54), tensor(6)), (tensor(54), tensor(7)), (tensor(54), tensor(0)), (tensor(54), tensor(55)), (tensor(0), tensor(7)), (tensor(0), tensor(54)), (tensor(0), tensor(55)), (tensor(0), tensor(56)), (tensor(55), tensor(54)), (tensor(55), tensor(0)), (tensor(55), tensor(56)), (tensor(55), tensor(4)), (tensor(56), tensor(0)), (tensor(56), tensor(55)), (tensor(56), tensor(4)), (tensor(56), tensor(2)), (tensor(4), tensor(55)), (tensor(4), tensor(56)), (tensor(4), tensor(2)), (tensor(4), tensor(0)), (tensor(16), tensor(12)), (tensor(16), tensor(15)), (tensor(16), tensor(14)), (tensor(16), tensor(57)), (tensor(14), tensor(15)), (tensor(14), tensor(16)), (tensor(14), tensor(57)), (tensor(14), tensor(58)), (tensor(57), tensor(16)), (tensor(57), tensor(14)), (tensor(57), tensor(58)), (tensor(57), tensor(3)), (tensor(58), tensor(14)), (tensor(58), tensor(57)), (tensor(58), tensor(3)), (tensor(58), tensor(0)), (tensor(3), tensor(57)), (tensor(3), tensor(58)), (tensor(3), tensor(0)), (tensor(3), tensor(16)), (tensor(0), tensor(58)), (tensor(0), tensor(3)), (tensor(0), tensor(16)), (tensor(0), tensor(59)), (tensor(16), tensor(3)), (tensor(16), tensor(0)), (tensor(16), tensor(59)), (tensor(16), tensor(0))]\n"
          ],
          "name": "stdout"
        },
        {
          "output_type": "stream",
          "text": [
            "\n"
          ],
          "name": "stderr"
        }
      ]
    },
    {
      "cell_type": "markdown",
      "metadata": {
        "id": "1QSo73PoRyd9"
      },
      "source": [
        "### **모델 Class 구현**"
      ]
    },
    {
      "cell_type": "markdown",
      "metadata": {
        "id": "jnnk44R6R28x"
      },
      "source": [
        "차례대로 두 가지 Word2Vec 모델을 구현합니다.  \r\n",
        "\r\n",
        "\r\n",
        "*   `self.embedding`: `vocab_size` 크기의 one-hot vector를 특정 크기의 `dim` 차원으로 embedding 시키는 layer.\r\n",
        "*   `self.linear`: 변환된 embedding vector를 다시 원래 `vocab_size`로 바꾸는 layer.\r\n"
      ]
    },
    {
      "cell_type": "code",
      "metadata": {
        "id": "b_HP1ISq5CWv"
      },
      "source": [
        "class CBOW(nn.Module):\r\n",
        "  def __init__(self, vocab_size, dim):\r\n",
        "    super(CBOW, self).__init__()\r\n",
        "    self.embedding = nn.Embedding(vocab_size, dim, sparse=True)\r\n",
        "    self.linear = nn.Linear(dim, vocab_size)\r\n",
        "\r\n",
        "  # B: batch size, W: window size, d_w: word embedding size, V: vocab size\r\n",
        "  def forward(self, x):  # x: (B, 2W)\r\n",
        "    embeddings = self.embedding(x)  # (B, 2W, d_w)\r\n",
        "    embeddings = torch.sum(embeddings, dim=1)  # (B, d_w)\r\n",
        "    output = self.linear(embeddings)  # (B, V)\r\n",
        "    return output"
      ],
      "execution_count": null,
      "outputs": []
    },
    {
      "cell_type": "code",
      "metadata": {
        "id": "yQAUApww68MJ"
      },
      "source": [
        "class SkipGram(nn.Module):\r\n",
        "  def __init__(self, vocab_size, dim):\r\n",
        "    super(SkipGram, self).__init__()\r\n",
        "    self.embedding = nn.Embedding(vocab_size, dim, sparse=True)\r\n",
        "    self.linear = nn.Linear(dim, vocab_size)\r\n",
        "\r\n",
        "  # B: batch size, W: window size, d_w: word embedding size, V: vocab size\r\n",
        "  def forward(self, x): # x: (B)\r\n",
        "    embeddings = self.embedding(x)  # (B, d_w)\r\n",
        "    output = self.linear(embeddings)  # (B, V)\r\n",
        "    return output"
      ],
      "execution_count": null,
      "outputs": []
    },
    {
      "cell_type": "markdown",
      "metadata": {
        "id": "58cJalkDWYMT"
      },
      "source": [
        "두 가지 모델을 생성합니다."
      ]
    },
    {
      "cell_type": "code",
      "metadata": {
        "id": "8vWUXEi8WeM-"
      },
      "source": [
        "cbow = CBOW(vocab_size=len(w2i), dim=256)\r\n",
        "skipgram = SkipGram(vocab_size=len(w2i), dim=256)"
      ],
      "execution_count": null,
      "outputs": []
    },
    {
      "cell_type": "markdown",
      "metadata": {
        "id": "xxP7qdtNWil1"
      },
      "source": [
        "### **모델 학습**"
      ]
    },
    {
      "cell_type": "markdown",
      "metadata": {
        "id": "QVggZrQ4WpBS"
      },
      "source": [
        "다음과 같이 hyperparamter를 세팅하고 `DataLoader` 객체를 만듭니다."
      ]
    },
    {
      "cell_type": "code",
      "metadata": {
        "id": "ygVdz5rSBeNu"
      },
      "source": [
        "batch_size=4\r\n",
        "learning_rate = 5e-4\r\n",
        "num_epochs = 5\r\n",
        "device = torch.device('cuda') if torch.cuda.is_available() else torch.device('cpu')\r\n",
        "\r\n",
        "cbow_loader = DataLoader(cbow_set, batch_size=batch_size)\r\n",
        "skipgram_loader = DataLoader(skipgram_set, batch_size=batch_size)"
      ],
      "execution_count": null,
      "outputs": []
    },
    {
      "cell_type": "markdown",
      "metadata": {
        "id": "ekixqKB3X5C1"
      },
      "source": [
        "첫번째로 CBOW 모델 학습입니다."
      ]
    },
    {
      "cell_type": "code",
      "metadata": {
        "id": "-d95qR7oC822",
        "colab": {
          "base_uri": "https://localhost:8080/"
        },
        "outputId": "3710867a-5618-492f-ff29-9596932b2a8c"
      },
      "source": [
        "cbow.train()\r\n",
        "cbow = cbow.to(device)\r\n",
        "optim = torch.optim.SGD(cbow.parameters(), lr=learning_rate)\r\n",
        "loss_function = nn.CrossEntropyLoss()\r\n",
        "\r\n",
        "for e in range(1, num_epochs+1):\r\n",
        "  print(\"#\" * 50)\r\n",
        "  print(f\"Epoch: {e}\")\r\n",
        "  for batch in tqdm(cbow_loader):\r\n",
        "    x, y = batch\r\n",
        "    x, y = x.to(device), y.to(device) # (B, W), (B)\r\n",
        "    output = cbow(x)  # (B, V)\r\n",
        " \r\n",
        "    optim.zero_grad()\r\n",
        "    loss = loss_function(output, y)\r\n",
        "    loss.backward()\r\n",
        "    optim.step()\r\n",
        "\r\n",
        "    print(f\"Train loss: {loss.item()}\")\r\n",
        "\r\n",
        "print(\"Finished.\")"
      ],
      "execution_count": null,
      "outputs": [
        {
          "output_type": "stream",
          "text": [
            "  6%|▋         | 1/16 [00:00<00:02,  5.41it/s]"
          ],
          "name": "stderr"
        },
        {
          "output_type": "stream",
          "text": [
            "##################################################\n",
            "Epoch: 1\n",
            "Train loss: 4.148735046386719\n",
            "Train loss: 5.144896984100342\n",
            "Train loss: 5.525363445281982\n",
            "Train loss: 4.504641532897949\n",
            "Train loss: 4.949730396270752\n",
            "Train loss: 4.584042072296143\n",
            "Train loss: 3.9607362747192383\n",
            "Train loss: 4.613408088684082\n",
            "Train loss: 4.155452251434326\n"
          ],
          "name": "stdout"
        },
        {
          "output_type": "stream",
          "text": [
            "100%|██████████| 16/16 [00:00<00:00, 76.04it/s]\n",
            "100%|██████████| 16/16 [00:00<00:00, 697.65it/s]\n",
            "100%|██████████| 16/16 [00:00<00:00, 688.71it/s]\n",
            "100%|██████████| 16/16 [00:00<00:00, 709.16it/s]\n",
            "100%|██████████| 16/16 [00:00<00:00, 661.26it/s]"
          ],
          "name": "stderr"
        },
        {
          "output_type": "stream",
          "text": [
            "Train loss: 4.8190507888793945\n",
            "Train loss: 5.218791484832764\n",
            "Train loss: 5.058356285095215\n",
            "Train loss: 3.898277759552002\n",
            "Train loss: 5.023766040802002\n",
            "Train loss: 4.748093605041504\n",
            "Train loss: 5.897932052612305\n",
            "##################################################\n",
            "Epoch: 2\n",
            "Train loss: 3.988358497619629\n",
            "Train loss: 5.015120983123779\n",
            "Train loss: 5.393758773803711\n",
            "Train loss: 4.3748459815979\n",
            "Train loss: 4.821868419647217\n",
            "Train loss: 4.31887674331665\n",
            "Train loss: 3.799393653869629\n",
            "Train loss: 4.493460178375244\n",
            "Train loss: 4.052077770233154\n",
            "Train loss: 4.655489921569824\n",
            "Train loss: 5.056982517242432\n",
            "Train loss: 4.699802875518799\n",
            "Train loss: 3.7592530250549316\n",
            "Train loss: 4.921564102172852\n",
            "Train loss: 4.597612380981445\n",
            "Train loss: 5.750945091247559\n",
            "##################################################\n",
            "Epoch: 3\n",
            "Train loss: 3.830961227416992\n",
            "Train loss: 4.88743782043457\n",
            "Train loss: 5.263570785522461\n",
            "Train loss: 4.24683952331543\n",
            "Train loss: 4.695409774780273\n",
            "Train loss: 4.061463356018066\n",
            "Train loss: 3.640857219696045\n",
            "Train loss: 4.375520706176758\n",
            "Train loss: 3.9520535469055176\n",
            "Train loss: 4.4955034255981445\n",
            "Train loss: 4.901391506195068\n",
            "Train loss: 4.353438377380371\n",
            "Train loss: 3.623995542526245\n",
            "Train loss: 4.821712493896484\n",
            "Train loss: 4.449353218078613\n",
            "Train loss: 5.6066741943359375\n",
            "##################################################\n",
            "Epoch: 4\n",
            "Train loss: 3.676703929901123\n",
            "Train loss: 4.7618913650512695\n",
            "Train loss: 5.134803295135498\n",
            "Train loss: 4.120664119720459\n",
            "Train loss: 4.570372581481934\n",
            "Train loss: 3.8123698234558105\n",
            "Train loss: 3.485304117202759\n",
            "Train loss: 4.2595977783203125\n",
            "Train loss: 3.8553690910339355\n",
            "Train loss: 4.339344024658203\n",
            "Train loss: 4.752120018005371\n",
            "Train loss: 4.02036714553833\n",
            "Train loss: 3.492506742477417\n",
            "Train loss: 4.72409725189209\n",
            "Train loss: 4.3034257888793945\n",
            "Train loss: 5.46502685546875\n",
            "##################################################\n",
            "Epoch: 5\n",
            "Train loss: 3.5257623195648193\n",
            "Train loss: 4.638530731201172\n",
            "Train loss: 5.007463455200195\n",
            "Train loss: 3.996366262435913\n",
            "Train loss: 4.446780204772949\n",
            "Train loss: 3.5723423957824707\n",
            "Train loss: 3.332932710647583\n",
            "Train loss: 4.145701885223389\n",
            "Train loss: 3.7620532512664795\n",
            "Train loss: 4.1873040199279785\n",
            "Train loss: 4.6093831062316895\n",
            "Train loss: 3.70198917388916\n",
            "Train loss: 3.364778757095337\n",
            "Train loss: 4.628615856170654\n",
            "Train loss: 4.159960746765137\n",
            "Train loss: 5.325924873352051\n",
            "Finished.\n"
          ],
          "name": "stdout"
        },
        {
          "output_type": "stream",
          "text": [
            "\n"
          ],
          "name": "stderr"
        }
      ]
    },
    {
      "cell_type": "markdown",
      "metadata": {
        "id": "FDahBf6IX4py"
      },
      "source": [
        "다음으로 Skip-gram 모델 학습입니다."
      ]
    },
    {
      "cell_type": "code",
      "metadata": {
        "id": "jJxGEusqFV5r",
        "colab": {
          "base_uri": "https://localhost:8080/"
        },
        "outputId": "cdfbd33b-f494-4267-af2e-c4ef1abbb03d"
      },
      "source": [
        "skipgram.train()\r\n",
        "skipgram = skipgram.to(device)\r\n",
        "optim = torch.optim.SGD(skipgram.parameters(), lr=learning_rate)\r\n",
        "loss_function = nn.CrossEntropyLoss()\r\n",
        "\r\n",
        "for e in range(1, num_epochs+1):\r\n",
        "  print(\"#\" * 50)\r\n",
        "  print(f\"Epoch: {e}\")\r\n",
        "  for batch in tqdm(skipgram_loader):\r\n",
        "    x, y = batch\r\n",
        "    x, y = x.to(device), y.to(device) # (B, W), (B)\r\n",
        "    output = skipgram(x)  # (B, V)\r\n",
        "\r\n",
        "    optim.zero_grad()\r\n",
        "    loss = loss_function(output, y)\r\n",
        "    loss.backward()\r\n",
        "    optim.step()\r\n",
        "\r\n",
        "    print(f\"Train loss: {loss.item()}\")\r\n",
        "\r\n",
        "print(\"Finished.\")"
      ],
      "execution_count": null,
      "outputs": [
        {
          "output_type": "stream",
          "text": [
            "100%|██████████| 64/64 [00:00<00:00, 787.31it/s]\n",
            "  0%|          | 0/64 [00:00<?, ?it/s]"
          ],
          "name": "stderr"
        },
        {
          "output_type": "stream",
          "text": [
            "##################################################\n",
            "Epoch: 1\n",
            "Train loss: 4.720100402832031\n",
            "Train loss: 4.257124900817871\n",
            "Train loss: 4.0217671394348145\n",
            "Train loss: 4.684561729431152\n",
            "Train loss: 4.401058197021484\n",
            "Train loss: 4.170951843261719\n",
            "Train loss: 4.337609767913818\n",
            "Train loss: 4.048840045928955\n",
            "Train loss: 4.619894027709961\n",
            "Train loss: 3.6861724853515625\n",
            "Train loss: 4.195770263671875\n",
            "Train loss: 4.268750190734863\n",
            "Train loss: 4.514578342437744\n",
            "Train loss: 4.210066795349121\n",
            "Train loss: 4.477677822113037\n",
            "Train loss: 3.994621515274048\n",
            "Train loss: 3.935309648513794\n",
            "Train loss: 3.3798320293426514\n",
            "Train loss: 4.018017768859863\n",
            "Train loss: 4.209064483642578\n",
            "Train loss: 4.029911994934082\n",
            "Train loss: 4.6160712242126465\n",
            "Train loss: 4.255170822143555\n",
            "Train loss: 4.01062536239624\n",
            "Train loss: 4.044005393981934\n",
            "Train loss: 4.406790733337402\n",
            "Train loss: 4.619673728942871\n",
            "Train loss: 4.491237640380859\n",
            "Train loss: 4.236423969268799\n",
            "Train loss: 4.2599711418151855\n",
            "Train loss: 3.901381731033325\n",
            "Train loss: 4.458072185516357\n",
            "Train loss: 4.132935523986816\n",
            "Train loss: 4.583682060241699\n",
            "Train loss: 3.901092529296875\n",
            "Train loss: 4.281576633453369\n",
            "Train loss: 3.9517040252685547\n",
            "Train loss: 4.127113342285156\n",
            "Train loss: 4.086973190307617\n",
            "Train loss: 4.539896011352539\n",
            "Train loss: 3.932565689086914\n",
            "Train loss: 4.2852654457092285\n",
            "Train loss: 4.044486999511719\n",
            "Train loss: 3.7988483905792236\n",
            "Train loss: 3.993494749069214\n",
            "Train loss: 3.681265354156494\n",
            "Train loss: 4.612456321716309\n",
            "Train loss: 4.5772175788879395\n",
            "Train loss: 4.586555480957031\n",
            "Train loss: 4.225582122802734\n",
            "Train loss: 4.562658309936523\n",
            "Train loss: 4.503916263580322\n",
            "Train loss: 4.267373561859131\n",
            "Train loss: 4.609853267669678\n",
            "Train loss: 4.296658992767334\n",
            "Train loss: 4.242763042449951\n",
            "Train loss: 4.5155816078186035\n",
            "Train loss: 3.951091766357422\n",
            "Train loss: 4.311875820159912\n",
            "Train loss: 4.047715187072754\n",
            "Train loss: 4.163783550262451\n",
            "Train loss: 4.037425994873047\n",
            "Train loss: 4.117414474487305\n",
            "Train loss: 4.436694622039795\n",
            "##################################################\n",
            "Epoch: 2\n",
            "Train loss: 4.68835973739624\n",
            "Train loss: 4.197266578674316\n",
            "Train loss: 3.992767333984375\n",
            "Train loss: 4.6187944412231445\n",
            "Train loss: 4.366237163543701\n",
            "Train loss: 4.1277360916137695\n",
            "Train loss: 4.30123233795166\n",
            "Train loss: 4.012744426727295\n",
            "Train loss: 4.589903831481934\n",
            "Train loss: 3.6576409339904785\n",
            "Train loss: 4.171801567077637\n",
            "Train loss: 4.238067626953125\n",
            "Train loss: 4.481369972229004\n",
            "Train loss: 4.183304786682129\n",
            "Train loss: 4.445627212524414\n",
            "Train loss: 3.9624834060668945\n",
            "Train loss: 3.908623695373535\n",
            "Train loss: 3.355160713195801\n",
            "Train loss: 3.991637945175171\n",
            "Train loss: 4.176603317260742\n",
            "Train loss: 3.928588390350342\n",
            "Train loss: 4.530241966247559\n",
            "Train loss: 4.1925554275512695\n",
            "Train loss: 3.982473611831665\n",
            "Train loss: 4.007821559906006\n",
            "Train loss: 4.343514442443848\n",
            "Train loss: 4.572257041931152\n",
            "Train loss: 4.4615983963012695\n",
            "Train loss: 4.1969099044799805\n",
            "Train loss: 4.228298187255859\n",
            "Train loss: 3.8704543113708496\n",
            "Train loss: 4.429924488067627\n",
            "Train loss: 4.095728874206543\n",
            "Train loss: 4.5533833503723145\n",
            "Train loss: 3.8667569160461426\n",
            "Train loss: 4.2498674392700195\n",
            "Train loss: 3.890284538269043\n",
            "Train loss: 4.083909034729004\n",
            "Train loss: 4.0541582107543945\n",
            "Train loss: 4.515958309173584\n",
            "Train loss: 3.9018568992614746\n",
            "Train loss: 4.2548675537109375\n",
            "Train loss: 3.9872918128967285\n",
            "Train loss: 3.7362427711486816\n",
            "Train loss: 3.8825619220733643\n",
            "Train loss: 3.582838773727417\n",
            "Train loss: 4.525538444519043\n",
            "Train loss: 4.514263153076172\n",
            "Train loss: 4.555992126464844\n"
          ],
          "name": "stdout"
        },
        {
          "output_type": "stream",
          "text": [
            "100%|██████████| 64/64 [00:00<00:00, 744.64it/s]\n",
            "100%|██████████| 64/64 [00:00<00:00, 766.96it/s]\n",
            "100%|██████████| 64/64 [00:00<00:00, 798.67it/s]\n",
            "  0%|          | 0/64 [00:00<?, ?it/s]"
          ],
          "name": "stderr"
        },
        {
          "output_type": "stream",
          "text": [
            "Train loss: 4.190550327301025\n",
            "Train loss: 4.514929294586182\n",
            "Train loss: 4.456348419189453\n",
            "Train loss: 4.234994888305664\n",
            "Train loss: 4.5819292068481445\n",
            "Train loss: 4.262999534606934\n",
            "Train loss: 4.212567329406738\n",
            "Train loss: 4.452874183654785\n",
            "Train loss: 3.9251339435577393\n",
            "Train loss: 4.281985282897949\n",
            "Train loss: 4.023290634155273\n",
            "Train loss: 4.130404472351074\n",
            "Train loss: 4.0017290115356445\n",
            "Train loss: 4.089040756225586\n",
            "Train loss: 4.377623081207275\n",
            "##################################################\n",
            "Epoch: 3\n",
            "Train loss: 4.657125473022461\n",
            "Train loss: 4.137861728668213\n",
            "Train loss: 3.9639384746551514\n",
            "Train loss: 4.553748607635498\n",
            "Train loss: 4.331634044647217\n",
            "Train loss: 4.0852131843566895\n",
            "Train loss: 4.265416622161865\n",
            "Train loss: 3.976905345916748\n",
            "Train loss: 4.56004524230957\n",
            "Train loss: 3.629385471343994\n",
            "Train loss: 4.147945880889893\n",
            "Train loss: 4.20756196975708\n",
            "Train loss: 4.448731422424316\n",
            "Train loss: 4.156702995300293\n",
            "Train loss: 4.413722038269043\n",
            "Train loss: 3.930772066116333\n",
            "Train loss: 3.8821191787719727\n",
            "Train loss: 3.3307225704193115\n",
            "Train loss: 3.9655280113220215\n",
            "Train loss: 4.144328594207764\n",
            "Train loss: 3.829319953918457\n",
            "Train loss: 4.445857048034668\n",
            "Train loss: 4.130602836608887\n",
            "Train loss: 3.9544992446899414\n",
            "Train loss: 3.9720306396484375\n",
            "Train loss: 4.280986785888672\n",
            "Train loss: 4.525214672088623\n",
            "Train loss: 4.432506084442139\n",
            "Train loss: 4.157805442810059\n",
            "Train loss: 4.196949005126953\n",
            "Train loss: 3.8397481441497803\n",
            "Train loss: 4.401921272277832\n",
            "Train loss: 4.058825492858887\n",
            "Train loss: 4.523355960845947\n",
            "Train loss: 3.832698345184326\n",
            "Train loss: 4.218367099761963\n",
            "Train loss: 3.8305583000183105\n",
            "Train loss: 4.041879653930664\n",
            "Train loss: 4.021937847137451\n",
            "Train loss: 4.492208480834961\n",
            "Train loss: 3.871356964111328\n",
            "Train loss: 4.224766254425049\n",
            "Train loss: 3.9315264225006104\n",
            "Train loss: 3.6744518280029297\n",
            "Train loss: 3.7736144065856934\n",
            "Train loss: 3.4866204261779785\n",
            "Train loss: 4.440179824829102\n",
            "Train loss: 4.451948642730713\n",
            "Train loss: 4.525564670562744\n",
            "Train loss: 4.155874252319336\n",
            "Train loss: 4.467875003814697\n",
            "Train loss: 4.409436225891113\n",
            "Train loss: 4.202802658081055\n",
            "Train loss: 4.554478645324707\n",
            "Train loss: 4.22959041595459\n",
            "Train loss: 4.182570934295654\n",
            "Train loss: 4.390904903411865\n",
            "Train loss: 3.899600028991699\n",
            "Train loss: 4.252385139465332\n",
            "Train loss: 3.9989724159240723\n",
            "Train loss: 4.097227096557617\n",
            "Train loss: 3.9664435386657715\n",
            "Train loss: 4.0612382888793945\n",
            "Train loss: 4.319198131561279\n",
            "##################################################\n",
            "Epoch: 4\n",
            "Train loss: 4.626391887664795\n",
            "Train loss: 4.078927993774414\n",
            "Train loss: 3.9352831840515137\n",
            "Train loss: 4.489458084106445\n",
            "Train loss: 4.2972517013549805\n",
            "Train loss: 4.0433878898620605\n",
            "Train loss: 4.230170249938965\n",
            "Train loss: 3.941328287124634\n",
            "Train loss: 4.5303215980529785\n",
            "Train loss: 3.601407051086426\n",
            "Train loss: 4.124204635620117\n",
            "Train loss: 4.1772332191467285\n",
            "Train loss: 4.41666316986084\n",
            "Train loss: 4.130259990692139\n",
            "Train loss: 4.381967067718506\n",
            "Train loss: 3.8994908332824707\n",
            "Train loss: 3.855795383453369\n",
            "Train loss: 3.3065185546875\n",
            "Train loss: 3.9396896362304688\n",
            "Train loss: 4.112244129180908\n",
            "Train loss: 3.732313632965088\n",
            "Train loss: 4.363040924072266\n",
            "Train loss: 4.069338798522949\n",
            "Train loss: 3.926703453063965\n",
            "Train loss: 3.9366369247436523\n",
            "Train loss: 4.219242095947266\n",
            "Train loss: 4.478553771972656\n",
            "Train loss: 4.403953552246094\n",
            "Train loss: 4.119120121002197\n",
            "Train loss: 4.165925025939941\n",
            "Train loss: 3.809264659881592\n",
            "Train loss: 4.374063014984131\n",
            "Train loss: 4.022231101989746\n",
            "Train loss: 4.4935994148254395\n",
            "Train loss: 3.798923969268799\n",
            "Train loss: 4.18708610534668\n",
            "Train loss: 3.7726666927337646\n",
            "Train loss: 4.001095771789551\n",
            "Train loss: 3.9903218746185303\n",
            "Train loss: 4.468646049499512\n",
            "Train loss: 3.841069221496582\n",
            "Train loss: 4.19496488571167\n",
            "Train loss: 3.877286911010742\n",
            "Train loss: 3.613525867462158\n",
            "Train loss: 3.666826009750366\n",
            "Train loss: 3.3928236961364746\n",
            "Train loss: 4.356510162353516\n",
            "Train loss: 4.390298843383789\n",
            "Train loss: 4.495273113250732\n",
            "Train loss: 4.1215596199035645\n",
            "Train loss: 4.421501159667969\n",
            "Train loss: 4.363199234008789\n",
            "Train loss: 4.170802116394043\n",
            "Train loss: 4.527495384216309\n",
            "Train loss: 4.196437835693359\n",
            "Train loss: 4.152778148651123\n",
            "Train loss: 4.329707145690918\n",
            "Train loss: 3.8744993209838867\n",
            "Train loss: 4.223079681396484\n",
            "Train loss: 3.9747602939605713\n",
            "Train loss: 4.064257621765137\n",
            "Train loss: 3.931575298309326\n",
            "Train loss: 4.034003257751465\n",
            "Train loss: 4.261451721191406\n",
            "##################################################\n",
            "Epoch: 5\n",
            "Train loss: 4.596153736114502\n",
            "Train loss: 4.020484924316406\n"
          ],
          "name": "stdout"
        },
        {
          "output_type": "stream",
          "text": [
            "\r100%|██████████| 64/64 [00:00<00:00, 727.71it/s]"
          ],
          "name": "stderr"
        },
        {
          "output_type": "stream",
          "text": [
            "Train loss: 3.906804084777832\n",
            "Train loss: 4.425958633422852\n",
            "Train loss: 4.263092517852783\n",
            "Train loss: 4.002264976501465\n",
            "Train loss: 4.1955037117004395\n",
            "Train loss: 3.906017303466797\n",
            "Train loss: 4.500732421875\n",
            "Train loss: 3.5737075805664062\n",
            "Train loss: 4.100578784942627\n",
            "Train loss: 4.147082805633545\n",
            "Train loss: 4.385162830352783\n",
            "Train loss: 4.103976726531982\n",
            "Train loss: 4.350363731384277\n",
            "Train loss: 3.8686442375183105\n",
            "Train loss: 3.829651355743408\n",
            "Train loss: 3.282548427581787\n",
            "Train loss: 3.914123058319092\n",
            "Train loss: 4.080353260040283\n",
            "Train loss: 3.637789726257324\n",
            "Train loss: 4.281925678253174\n",
            "Train loss: 4.008788585662842\n",
            "Train loss: 3.89908766746521\n",
            "Train loss: 3.901646614074707\n",
            "Train loss: 4.158315658569336\n",
            "Train loss: 4.432282447814941\n",
            "Train loss: 4.375933647155762\n",
            "Train loss: 4.080861568450928\n",
            "Train loss: 4.135228633880615\n",
            "Train loss: 3.779006242752075\n",
            "Train loss: 4.346350193023682\n",
            "Train loss: 3.985950469970703\n",
            "Train loss: 4.464112281799316\n",
            "Train loss: 3.765441656112671\n",
            "Train loss: 4.156034469604492\n",
            "Train loss: 3.7167577743530273\n",
            "Train loss: 3.9616336822509766\n",
            "Train loss: 3.959321975708008\n",
            "Train loss: 4.445271968841553\n",
            "Train loss: 3.81099796295166\n",
            "Train loss: 4.165467739105225\n",
            "Train loss: 3.8246750831604004\n",
            "Train loss: 3.5535168647766113\n",
            "Train loss: 3.5623817443847656\n",
            "Train loss: 3.301671028137207\n",
            "Train loss: 4.2746686935424805\n",
            "Train loss: 4.329339981079102\n",
            "Train loss: 4.465119361877441\n",
            "Train loss: 4.087611675262451\n",
            "Train loss: 4.375814914703369\n",
            "Train loss: 4.317652702331543\n",
            "Train loss: 4.1389970779418945\n",
            "Train loss: 4.500972747802734\n",
            "Train loss: 4.163543224334717\n",
            "Train loss: 4.123192310333252\n",
            "Train loss: 4.2693190574646\n",
            "Train loss: 3.8498423099517822\n",
            "Train loss: 4.194069862365723\n",
            "Train loss: 3.950655937194824\n",
            "Train loss: 4.031499862670898\n",
            "Train loss: 3.897129535675049\n",
            "Train loss: 4.007328033447266\n",
            "Train loss: 4.2044172286987305\n",
            "Finished.\n"
          ],
          "name": "stdout"
        },
        {
          "output_type": "stream",
          "text": [
            "\n"
          ],
          "name": "stderr"
        }
      ]
    },
    {
      "cell_type": "markdown",
      "metadata": {
        "id": "Pi0sbHV6dEOR"
      },
      "source": [
        "### **테스트**"
      ]
    },
    {
      "cell_type": "markdown",
      "metadata": {
        "id": "WGarLWxXeJvz"
      },
      "source": [
        "학습된 각 모델을 이용하여 test 단어들의 word embedding을 확인합니다."
      ]
    },
    {
      "cell_type": "code",
      "metadata": {
        "id": "4A1wrl-L_RjF",
        "colab": {
          "base_uri": "https://localhost:8080/"
        },
        "outputId": "a96171b7-c638-4940-ae03-1934506e5a06"
      },
      "source": [
        "for word in test_words:\r\n",
        "  input_id = torch.LongTensor([w2i[word]]).to(device)\r\n",
        "  emb = cbow.embedding(input_id)\r\n",
        "\r\n",
        "  print(f\"Word: {word}\")\r\n",
        "  print(emb.squeeze(0))"
      ],
      "execution_count": null,
      "outputs": [
        {
          "output_type": "stream",
          "text": [
            "Word: 음식\n",
            "tensor([ 0.1205, -0.6906,  1.2125,  0.8747,  1.1603,  1.6634, -0.2847, -0.5266,\n",
            "         1.0243, -1.4299, -1.8155,  0.0230, -0.5703, -0.8459, -0.8317,  1.7981,\n",
            "         0.6013,  0.6252,  0.1489,  1.0409, -0.2567, -0.2421, -0.3163,  0.0777,\n",
            "         0.0063, -0.7628,  0.3231,  1.0551,  1.1203,  0.3657, -0.7725,  0.1117,\n",
            "         0.6542,  1.2464, -0.3078, -0.6025,  0.8577,  0.0366,  0.2887,  0.3252,\n",
            "        -0.3527, -0.8851, -0.3600, -0.1836,  0.1824,  0.9931, -0.3883,  1.3692,\n",
            "        -1.3769, -0.1664,  0.1763,  0.2280,  2.6283, -0.2433, -1.0066, -2.0993,\n",
            "         0.5470,  0.3769,  0.9690, -0.1904, -0.2749, -2.1109,  0.9469,  0.9810,\n",
            "        -0.5039, -0.0865, -0.9831, -0.2973, -1.3241,  0.1638,  1.2461, -1.0169,\n",
            "        -0.1694, -0.3969, -0.8298, -0.7485, -1.2220, -0.5490, -0.3973, -1.3511,\n",
            "        -0.6827, -1.4021,  0.1970,  0.0616, -0.5831, -0.3808, -0.4074, -0.1162,\n",
            "        -1.6924,  0.8244,  0.6510, -1.7786, -1.1903,  0.7170,  0.3414, -0.1464,\n",
            "         1.0889, -0.9081, -0.4468, -2.3880, -1.3674, -0.9183, -2.1577,  0.0251,\n",
            "         0.3983,  0.2849,  0.5753, -0.8245, -0.5343, -1.3783,  0.3165,  0.0826,\n",
            "        -1.4122, -0.1826, -1.0399,  1.8907,  0.5924,  0.5815,  0.9170, -1.0040,\n",
            "         1.1151, -0.8338, -0.5928,  0.1602,  0.1058, -2.1223,  1.0476, -1.3402,\n",
            "         0.6277,  0.5824,  0.6306,  0.4877, -0.0412,  2.2142, -0.4458,  0.6706,\n",
            "        -1.2103,  0.7518, -1.1563, -0.1004, -0.7529, -0.6282, -0.3463, -0.4036,\n",
            "        -1.6795, -0.3506, -2.4686,  0.4202, -0.2046, -1.9314, -0.3373,  0.4869,\n",
            "         0.0935, -0.9798,  0.8651, -0.7430,  0.7320, -1.2270, -0.8754,  1.9592,\n",
            "        -1.7776, -0.4045,  1.4814,  1.4128,  1.4890,  1.1089, -0.4702, -0.6955,\n",
            "         0.5548,  0.1816,  0.8944, -0.7615, -0.1721,  0.5517,  0.3725,  0.7720,\n",
            "        -0.4767, -2.4929, -0.9238, -0.9848, -0.3645, -0.6361,  0.7789,  2.8377,\n",
            "         1.1144, -0.9781, -0.7592, -0.6588, -1.6400,  0.5435,  1.2252, -0.1711,\n",
            "        -0.7148, -0.1869, -0.9991,  0.9336, -1.2229, -0.4641, -1.2088,  1.7998,\n",
            "         1.4377, -0.5837, -1.0631, -0.1016, -1.4991, -0.7189,  0.2927, -0.0481,\n",
            "         0.8778, -0.7404, -0.5053, -1.2398,  0.5186,  0.7260,  1.5108, -0.7995,\n",
            "        -0.2951, -0.0126, -0.9097,  0.8115,  0.0891,  1.0355,  0.6255, -1.1077,\n",
            "        -0.2449, -0.7135,  1.4350,  0.0924,  1.2194,  0.0536, -1.6606, -0.7619,\n",
            "        -0.3804,  0.3279,  0.1490, -1.0103, -0.7280, -0.6883, -0.0780,  1.9105,\n",
            "         2.0630, -0.9392, -0.3895,  1.1015, -0.1110, -0.3796,  0.0850, -1.7245,\n",
            "        -0.3390, -0.2806,  0.8315, -0.8342, -0.1632, -0.0108, -0.6558, -0.3265],\n",
            "       device='cuda:0', grad_fn=<SqueezeBackward1>)\n",
            "Word: 맛\n",
            "tensor([-6.1630e-01, -6.1589e-02, -4.9498e-01,  2.2993e-01,  7.8870e-02,\n",
            "        -1.5449e+00,  1.4145e-02,  1.5875e+00, -1.4517e+00, -6.9585e-01,\n",
            "         3.2248e-01, -3.7632e-01,  9.1709e-01,  6.8538e-01,  1.0316e+00,\n",
            "         3.3074e-01,  1.2793e+00,  1.2212e+00, -1.3083e+00,  2.8733e+00,\n",
            "         3.0758e-01,  3.3100e-01,  3.6532e-02,  1.2705e+00,  6.5327e-01,\n",
            "        -3.8577e-01,  8.6760e-01, -1.1990e+00,  7.1565e-01, -1.1028e-01,\n",
            "         1.1250e-01, -4.7546e-01, -9.5864e-01, -1.6184e+00, -2.9491e-01,\n",
            "        -4.0601e-01, -6.8249e-01, -4.7930e-01,  3.8126e-01,  1.9858e-01,\n",
            "         7.7343e-01,  6.3413e-01, -6.9603e-01,  3.2017e-01, -1.0477e+00,\n",
            "        -1.2771e-02, -1.1453e-01,  2.1593e+00,  4.3768e-01,  6.6840e-01,\n",
            "         6.4354e-02,  1.2301e+00,  9.7365e-01, -4.1515e-01, -1.2018e+00,\n",
            "         2.7608e+00, -3.3236e-01, -1.4898e-01,  1.2344e+00, -1.7712e-01,\n",
            "        -3.4662e-01,  3.2763e-01, -1.1747e-01, -7.4466e-01,  5.4187e-01,\n",
            "        -9.8785e-02,  1.6853e-01,  5.1523e-01,  1.8884e+00,  2.5963e-01,\n",
            "         1.0527e+00,  4.2344e-01, -3.2956e-01, -1.3277e+00,  8.9380e-01,\n",
            "        -6.8693e-01, -1.3358e+00, -1.1870e+00,  2.1763e+00, -1.7466e-01,\n",
            "         1.5264e+00, -1.4476e+00,  6.5162e-01,  4.9412e-02, -1.6100e+00,\n",
            "         5.3840e-02, -6.0385e-01,  9.1597e-01, -3.4877e-01, -2.1906e-01,\n",
            "        -5.5664e-01, -1.1823e+00,  2.6420e+00,  5.5637e-01, -3.1748e-02,\n",
            "         1.2255e+00,  3.3057e-01,  2.9097e+00, -1.4041e-01,  3.8986e-01,\n",
            "        -4.4678e-01, -3.2559e-01,  3.3513e-01, -1.0156e+00, -7.9244e-01,\n",
            "        -1.2351e-01, -1.7739e+00, -4.6016e-02,  4.4013e-01, -5.2956e-01,\n",
            "         7.7660e-01, -6.0344e-01,  3.3057e-01,  3.6035e-01, -4.4198e-01,\n",
            "        -1.0281e+00,  2.6041e+00,  5.9975e-01,  7.7967e-01, -9.7672e-01,\n",
            "         9.5156e-01, -8.2046e-02,  1.2525e+00,  2.7447e-01,  1.0124e+00,\n",
            "        -1.0011e+00, -2.9209e-01,  1.3847e+00, -1.6711e-01,  1.7112e-01,\n",
            "        -1.6571e+00, -1.1686e-01,  3.9820e-01,  4.7762e-01, -1.4137e-01,\n",
            "         1.2838e+00, -6.5976e-01,  7.7321e-01,  3.8708e-01, -1.1978e+00,\n",
            "        -6.6974e-01,  7.6678e-01, -8.7554e-01, -1.0005e+00, -1.1463e-01,\n",
            "        -6.1845e-01, -2.3371e-01,  4.2211e-01, -1.5663e-01, -6.8467e-01,\n",
            "         1.4703e+00, -5.0893e-01, -9.1405e-01,  1.3021e+00, -5.4149e-01,\n",
            "        -1.0247e+00, -9.1106e-01, -1.0042e+00, -7.5705e-01, -2.0820e-01,\n",
            "        -1.9886e+00, -9.9281e-01, -1.5620e+00,  1.2740e+00,  1.0848e+00,\n",
            "         1.6972e+00, -9.3966e-01,  2.5108e-01, -3.3446e-01,  8.5645e-01,\n",
            "         3.0276e-01, -2.6184e-02, -8.8693e-02, -4.1250e-01, -1.0331e+00,\n",
            "         1.0570e+00,  4.1820e-03,  7.3015e-01,  3.8025e-01,  1.1236e-01,\n",
            "        -5.1255e-01,  7.6473e-01,  1.4167e-01,  6.1202e-01, -3.3903e-01,\n",
            "        -6.1311e-01, -7.2632e-01, -9.4525e-01,  1.8916e+00,  1.4149e+00,\n",
            "        -7.0212e-01,  5.7938e-02, -1.6224e+00,  7.5902e-03, -1.2400e+00,\n",
            "        -1.2477e+00,  9.9597e-01, -6.5059e-01, -9.7499e-01, -8.1531e-02,\n",
            "         8.3018e-01,  7.3941e-01,  1.0836e+00, -2.0875e-01,  8.7335e-02,\n",
            "         6.6469e-01,  9.8375e-01, -7.3913e-01,  1.1667e+00, -8.5666e-01,\n",
            "        -2.0012e-02, -3.9489e-01,  4.9405e-01, -1.9237e-01, -1.7774e-01,\n",
            "        -4.0912e-01, -1.1844e+00, -2.2237e-01, -1.1248e+00, -1.1958e+00,\n",
            "         2.9335e+00, -7.8357e-01, -3.7955e-01, -1.7668e+00,  1.3260e+00,\n",
            "         6.1314e-01,  1.1141e-01, -1.4190e+00,  9.7067e-01,  4.0474e-01,\n",
            "         2.6362e+00,  1.3611e+00,  1.4464e+00,  3.7976e-01,  2.5069e-01,\n",
            "        -1.1210e+00,  1.1884e-01,  1.0879e+00, -2.9074e-01, -5.3645e-01,\n",
            "        -1.0998e+00, -1.4967e+00,  2.0487e-03,  1.8391e-01, -7.1732e-01,\n",
            "         1.0265e+00, -5.6412e-01, -7.4335e-01, -1.0237e+00, -6.3314e-01,\n",
            "        -1.0228e+00, -5.5558e-01, -1.1275e+00, -2.0004e+00, -1.3190e+00,\n",
            "        -2.2972e-01], device='cuda:0', grad_fn=<SqueezeBackward1>)\n",
            "Word: 서비스\n",
            "tensor([-5.6524e-01,  4.1327e-01, -6.3854e-01,  3.1871e-01,  2.2315e-01,\n",
            "         7.6324e-01,  2.2571e+00,  9.4666e-01,  3.1057e-01,  1.8205e+00,\n",
            "         1.9043e+00, -1.4147e+00,  2.3334e-02,  2.1597e+00, -3.3576e-02,\n",
            "         1.0365e+00,  5.5241e-01, -9.0530e-01,  7.7761e-01, -1.0338e+00,\n",
            "         1.5446e+00, -4.6764e-01, -1.0402e+00,  2.9032e+00,  6.2500e-01,\n",
            "        -1.1562e+00,  1.4209e-01,  2.9797e+00,  8.5642e-01,  3.3154e-01,\n",
            "        -2.7205e-01, -1.3212e-02, -5.5642e-01,  1.3456e+00, -7.8668e-01,\n",
            "        -3.7767e-01,  4.4645e-01,  1.1269e+00,  1.3838e-01, -5.0350e-01,\n",
            "        -9.5280e-01, -3.4050e-01, -4.4804e-01,  1.1509e+00,  9.9738e-01,\n",
            "         1.9867e-01, -5.7727e-01,  1.7469e+00,  9.5791e-01,  2.5544e-01,\n",
            "        -9.8297e-02,  3.0095e-01, -4.5640e-01,  5.2667e-01, -1.1603e+00,\n",
            "        -1.1895e-01,  5.6149e-01, -1.3472e-01,  8.3231e-01,  6.1474e-01,\n",
            "        -1.5260e+00, -4.7758e-01,  1.1970e+00, -7.7835e-01,  1.1902e+00,\n",
            "         1.6298e+00, -1.2600e+00,  4.6658e-01, -1.7228e+00, -3.8822e-02,\n",
            "        -6.4686e-01,  1.0541e+00, -4.2589e-01,  1.4129e-01, -1.3087e+00,\n",
            "         9.5698e-01, -7.2178e-01,  1.5048e-01, -2.1993e-01,  1.0762e+00,\n",
            "         8.3013e-02,  1.0186e-01, -6.2481e-01, -1.0549e+00, -2.5584e-01,\n",
            "         1.2032e+00, -1.3254e+00, -1.0019e+00, -6.0561e-01, -2.7452e-01,\n",
            "        -1.5542e+00,  3.3632e-01, -8.7734e-02, -2.7383e-01, -1.7360e+00,\n",
            "         8.1373e-01, -1.2902e+00,  8.2712e-01, -9.1163e-02, -7.5656e-01,\n",
            "        -6.0012e-01,  6.3785e-01,  9.8985e-01, -5.1221e-01,  2.1306e-01,\n",
            "        -1.5563e-01,  1.7307e-01,  2.8378e-01,  1.2129e-02,  7.9190e-02,\n",
            "         2.8294e-01,  8.1375e-01, -1.3411e-01,  3.4697e-01, -1.6210e+00,\n",
            "        -8.2988e-01,  1.8452e-01,  2.8438e-01, -5.9562e-01,  8.7338e-01,\n",
            "         7.6008e-01,  1.5094e+00, -1.3941e+00,  4.1348e-02,  1.2637e+00,\n",
            "        -6.0766e-01,  1.3414e+00, -1.2294e+00, -6.8952e-01, -1.4705e+00,\n",
            "        -5.3754e-01,  2.3492e-01, -1.4158e-01,  4.2651e-01, -8.1562e-01,\n",
            "        -4.5236e-01,  2.1443e+00, -2.7656e+00,  1.0066e+00,  8.6367e-01,\n",
            "        -2.5571e-01,  8.5110e-02,  5.1754e-02, -2.1727e+00,  3.3101e-01,\n",
            "         1.6415e+00,  9.6420e-01, -8.8255e-01, -6.7824e-01, -9.6289e-01,\n",
            "         4.9126e-01,  2.6721e+00, -1.9406e+00, -1.6358e+00,  7.5006e-01,\n",
            "        -4.9086e-01, -1.2679e+00, -1.9101e-03, -4.4429e-01, -9.9823e-01,\n",
            "         9.0522e-03,  1.1096e+00, -7.4112e-01, -7.4003e-01,  4.2567e-02,\n",
            "        -1.9097e+00, -1.0795e+00, -6.5184e-01, -3.7966e-01, -1.5146e+00,\n",
            "        -1.9697e+00, -1.4244e+00, -1.4184e-01,  4.7769e-01,  4.0650e-01,\n",
            "         1.8340e+00,  5.5515e-01, -6.0929e-01, -9.1499e-01, -2.9304e-02,\n",
            "         4.5736e-01, -8.9746e-01, -5.0532e-01, -6.1929e-01, -5.1791e-01,\n",
            "        -3.3963e-01,  1.1397e+00, -5.0873e-01, -1.5047e+00,  1.2228e+00,\n",
            "        -1.1751e+00,  6.2313e-01, -6.7949e-01, -8.3921e-01, -1.4158e+00,\n",
            "        -1.0823e+00,  7.4853e-02, -9.0273e-01, -2.0286e-01,  9.9979e-01,\n",
            "         1.1212e+00,  1.7546e+00, -2.5641e-01, -5.2554e-02, -6.3511e-01,\n",
            "        -8.2973e-01, -1.8650e+00,  7.9698e-01,  2.9187e-02, -7.3320e-01,\n",
            "         5.4852e-01,  1.2187e-01,  1.1584e+00,  1.6549e+00, -4.7420e-02,\n",
            "        -2.8333e-01,  7.1160e-02, -2.3713e-01,  1.1077e+00, -1.5844e+00,\n",
            "         1.8021e+00,  1.0724e+00, -1.0971e+00, -7.8468e-01, -3.4916e-01,\n",
            "         8.5925e-01, -4.9675e-01,  6.1160e-01,  8.4090e-02,  3.6233e-01,\n",
            "        -1.7846e+00, -1.2547e+00, -4.7263e-01, -4.8841e-01,  5.6316e-01,\n",
            "         2.0599e+00, -1.9008e+00, -3.6826e-01, -1.1770e+00,  7.4363e-02,\n",
            "         1.8858e+00,  1.7413e+00,  5.1019e-01,  8.9334e-02,  2.8691e-01,\n",
            "        -8.8050e-01, -5.3108e-01,  4.5002e-01, -5.0963e-01, -3.8456e-01,\n",
            "        -4.9096e-01,  1.1908e-01, -1.1876e+00, -8.7983e-01, -3.4694e-01,\n",
            "         2.9426e-01], device='cuda:0', grad_fn=<SqueezeBackward1>)\n",
            "Word: 위생\n",
            "tensor([ 5.0540e-01,  1.3289e+00, -1.1319e+00,  1.4654e+00, -2.4500e-01,\n",
            "        -4.3857e-01,  1.6402e+00, -5.5908e-01, -7.0456e-01,  2.1382e-01,\n",
            "        -1.2889e+00, -1.1723e+00,  4.3104e-01,  1.4608e-01,  3.0390e-03,\n",
            "        -1.2904e+00, -9.3021e-01,  4.2299e-03, -1.6287e+00, -4.2404e-01,\n",
            "        -1.0393e+00,  1.8244e-01,  1.6600e-02,  4.2225e-01,  1.0399e+00,\n",
            "        -2.1800e+00,  2.5714e-01,  1.1986e+00,  1.0772e+00,  3.2259e-02,\n",
            "         6.8186e-01, -1.1957e+00, -1.4349e+00,  4.1793e-02, -1.7165e+00,\n",
            "        -8.7935e-01, -9.9098e-01,  4.5315e-01,  1.1732e+00,  1.1211e+00,\n",
            "        -1.0840e+00,  1.1451e+00,  1.0136e+00, -6.4581e-01,  6.7141e-02,\n",
            "         2.1255e-01,  8.6292e-01,  1.3342e+00, -1.6432e+00,  4.8665e-01,\n",
            "        -5.3730e-01,  8.7368e-02,  1.4022e+00,  1.6248e+00,  1.6323e-01,\n",
            "         8.4972e-01, -4.8318e-01,  6.1811e-01,  1.4770e+00, -2.5458e-01,\n",
            "        -1.9942e+00, -2.1742e-01,  4.5443e-01,  1.2081e+00, -1.4064e-01,\n",
            "         2.1096e-01,  1.3350e+00,  6.4052e-01,  1.6512e-01, -2.7742e-01,\n",
            "         1.3743e+00,  2.3618e+00, -1.3449e+00, -9.4076e-01, -1.3062e+00,\n",
            "         1.4153e+00,  1.0367e+00, -4.5952e-01,  2.3877e-01,  3.0035e-01,\n",
            "        -8.7863e-01, -2.8570e-01,  1.0042e+00, -6.4780e-01,  1.1661e+00,\n",
            "         2.5510e-01, -1.1321e-01, -1.1362e-01,  1.0313e+00, -2.6027e-01,\n",
            "         3.4943e-01,  4.0072e-01, -1.9942e-02, -6.7541e-02,  4.4422e-01,\n",
            "         6.9566e-04, -4.8206e-01,  1.6912e-01, -7.9597e-01,  9.2001e-01,\n",
            "        -1.0630e+00,  5.9484e-01,  7.8653e-01, -8.1667e-01,  9.0554e-01,\n",
            "        -7.5558e-01, -1.5317e+00,  8.2491e-01, -5.5375e-01,  1.3377e+00,\n",
            "         5.7504e-01, -1.1804e+00,  5.4502e-02,  4.0480e-02, -7.6402e-02,\n",
            "        -2.2821e+00, -3.4538e-01, -4.0911e-01, -1.7008e+00,  3.7399e-01,\n",
            "        -1.1214e+00,  1.4933e+00,  2.1496e-01,  2.1338e+00, -1.1575e+00,\n",
            "        -6.7540e-01,  1.2132e+00, -1.3286e+00, -1.7056e+00,  7.6749e-01,\n",
            "         2.8746e-01,  6.6217e-01, -5.7858e-01, -3.3445e-01, -2.6693e-01,\n",
            "        -7.8880e-01, -1.4800e+00, -8.9824e-01,  8.5508e-02, -5.0283e-01,\n",
            "         1.7909e+00, -2.3907e-01, -8.9399e-01, -3.6318e-01, -4.3324e-02,\n",
            "        -9.9162e-01, -1.6630e+00,  4.5628e-01, -7.8654e-01, -6.2432e-01,\n",
            "        -1.4165e+00,  3.4503e-01,  8.6486e-01,  1.4114e-01, -2.8456e-01,\n",
            "        -5.9797e-01,  1.4990e-01, -1.3066e+00, -7.3855e-01,  1.2645e+00,\n",
            "        -6.5862e-02,  9.6864e-01, -6.8365e-02,  8.0922e-01, -1.6116e-01,\n",
            "         6.2212e-01, -1.2901e+00,  1.4623e+00, -9.1990e-01,  7.2585e-01,\n",
            "        -3.2341e-02, -5.9855e-01, -1.0193e+00, -1.8882e-01, -6.5528e-01,\n",
            "        -8.6206e-01,  3.1100e-01, -4.5595e-02, -1.0609e+00, -1.6332e+00,\n",
            "        -2.0409e-01, -6.6809e-01,  1.6946e-01,  7.3006e-01, -3.9560e-01,\n",
            "         1.2886e+00, -2.7249e-01, -1.8575e+00,  2.8822e-01, -1.8359e+00,\n",
            "        -1.6778e+00,  4.9440e-01, -1.1092e+00, -1.4716e+00,  1.4830e+00,\n",
            "        -8.8041e-01,  1.2847e+00,  7.2245e-01,  1.9551e-01, -9.9200e-01,\n",
            "        -1.2198e-01,  4.2238e-01,  1.1499e+00,  7.5363e-01,  7.4387e-01,\n",
            "         9.9447e-01,  3.0116e-01,  1.3079e+00, -4.6725e-01,  1.7840e+00,\n",
            "         1.9476e-01,  3.5955e-01,  8.8718e-01, -5.7303e-01,  1.8712e-01,\n",
            "        -1.0351e+00, -6.9393e-01, -3.4607e-01,  9.5534e-01, -2.7517e-01,\n",
            "         8.1860e-01, -5.4959e-01, -3.7571e-01, -2.5109e+00,  5.0439e-01,\n",
            "         2.6751e+00,  7.6037e-01, -7.2664e-01,  1.8030e+00,  1.7487e+00,\n",
            "         9.1057e-01, -1.1081e-01,  1.8740e-01, -3.5189e-01, -3.4219e-01,\n",
            "         1.3925e+00, -7.5368e-01, -4.8875e-01,  5.0241e-01,  1.0918e-02,\n",
            "         1.3291e+00, -6.0777e-01, -1.1509e+00, -2.0379e+00,  1.2294e+00,\n",
            "        -1.0020e-01, -3.3495e-01,  1.0300e+00, -2.6286e-01,  7.5599e-01,\n",
            "         7.0624e-01,  2.2524e+00, -1.2455e+00,  1.6486e+00,  2.0619e-01,\n",
            "        -1.3552e-01], device='cuda:0', grad_fn=<SqueezeBackward1>)\n",
            "Word: 가격\n",
            "tensor([ 7.7634e-01,  4.8786e-01, -1.2413e+00, -3.1479e-01, -6.6027e-01,\n",
            "        -1.1074e-01,  1.5935e+00, -3.0165e-01,  8.2558e-01,  1.2178e+00,\n",
            "         8.0952e-01,  1.1326e+00,  1.1170e+00, -5.5801e-01,  1.2883e-01,\n",
            "        -8.8423e-01, -5.4619e-01,  1.5541e-01, -1.7234e+00, -9.7831e-02,\n",
            "         5.5087e-01, -1.6729e+00, -3.8691e-02,  1.7993e-01, -8.0289e-01,\n",
            "         1.1600e+00, -1.2008e+00,  4.1604e-01, -2.5452e+00,  7.4205e-01,\n",
            "         1.1572e+00,  1.2170e+00,  3.7449e-01, -4.8159e-01, -6.5711e-01,\n",
            "         5.7727e-01,  2.7886e+00, -7.5448e-01,  6.6348e-01,  6.0892e-01,\n",
            "        -3.9050e-01,  1.5266e-01,  9.4489e-02,  3.2926e-01,  1.4847e-01,\n",
            "         3.2878e-01,  6.4607e-01, -1.8240e+00,  9.3785e-01, -1.4231e+00,\n",
            "         1.3705e-01, -1.6062e+00,  5.3008e-01, -8.7066e-01, -8.0538e-01,\n",
            "        -2.0701e-01,  6.7129e-01, -6.9820e-01, -8.8011e-02,  1.1519e+00,\n",
            "        -3.3100e-01, -1.6561e-01,  1.6694e+00, -3.6488e-01,  5.8944e-02,\n",
            "        -2.1905e-01,  1.1275e-01, -4.3404e-01, -2.8695e-01,  3.7911e-01,\n",
            "        -2.2791e-01, -2.6960e-02, -8.9172e-01, -1.7567e+00,  7.7699e-01,\n",
            "        -1.3187e+00, -3.9379e-01, -6.5460e-01,  5.1713e-01, -3.5764e-01,\n",
            "        -1.2010e+00,  6.0537e-01,  3.3148e-01, -5.9806e-01, -1.2653e+00,\n",
            "         1.2615e+00, -6.3785e-01,  3.9758e-01, -1.8980e+00,  8.5345e-02,\n",
            "        -6.7317e-01,  5.0862e-01, -3.6990e-01, -2.8928e-01,  2.4612e-01,\n",
            "         9.5210e-01,  1.0958e+00,  4.5319e-01, -1.4249e+00,  6.6227e-01,\n",
            "         1.3824e+00,  8.5309e-01, -4.8132e-01,  1.3190e+00,  6.6080e-01,\n",
            "        -4.6389e-01, -6.0245e-01,  1.4702e+00,  1.0726e+00,  9.1445e-01,\n",
            "        -1.9497e+00, -6.3430e-02, -1.4723e+00, -8.4560e-01, -8.7008e-01,\n",
            "        -3.9021e-01,  1.3633e+00, -1.6490e-01,  9.4238e-01, -1.2333e+00,\n",
            "        -1.7759e+00,  5.6840e-01,  1.1760e+00,  1.1221e+00, -5.5588e-01,\n",
            "         3.7989e-02,  9.6497e-01,  2.0107e-01, -8.3233e-01,  1.6641e-01,\n",
            "        -9.4437e-01,  1.3573e+00,  1.2002e+00, -1.9193e+00,  5.9960e-02,\n",
            "         1.3588e+00,  3.2512e-02,  1.8019e+00, -4.8420e-01, -1.7382e+00,\n",
            "        -1.2260e+00, -1.1802e+00, -9.3709e-01,  5.6324e-01, -1.2164e-01,\n",
            "         9.0348e-01,  1.0567e+00,  3.3235e-01,  2.5661e+00,  7.6158e-01,\n",
            "         4.8593e-01,  5.6017e-01, -6.6784e-01,  4.6988e-01, -9.6199e-01,\n",
            "        -5.6864e-01,  5.7697e-01, -1.3978e-01,  1.3743e+00,  1.3921e+00,\n",
            "         3.1353e-01, -1.2692e-03, -5.5922e-04, -2.0316e+00, -5.1989e-01,\n",
            "         4.0698e-01, -1.1257e+00,  9.4882e-01, -4.3205e-01, -7.5211e-01,\n",
            "        -7.6635e-01,  6.2657e-01, -1.6614e+00,  7.7576e-01,  6.4442e-01,\n",
            "        -1.9251e+00,  1.7500e-01, -2.8615e-01, -1.4710e-01, -1.7378e-01,\n",
            "         1.9085e-01, -9.9917e-01, -3.1347e-01,  6.7990e-01,  3.5632e-01,\n",
            "         7.6872e-02,  2.0077e-01, -5.8263e-01,  1.2926e+00, -5.6263e-01,\n",
            "        -2.5947e-01, -1.4780e+00,  1.1177e-01,  7.7611e-01,  3.0875e-01,\n",
            "        -6.4759e-01,  4.4633e-02,  5.9790e-01,  1.2901e+00,  6.2372e-01,\n",
            "         8.9006e-01, -1.4608e+00, -9.3208e-01,  1.3174e+00, -1.5615e+00,\n",
            "         9.5211e-01, -9.0851e-01,  2.5477e-01, -3.1979e-02,  5.2499e-01,\n",
            "         1.0305e+00,  7.5732e-01,  7.0302e-01, -7.8552e-01, -6.6173e-02,\n",
            "        -7.4564e-02,  2.7864e-01, -5.2509e-01,  3.5087e-01, -1.5496e+00,\n",
            "         1.0264e+00, -2.9007e-01,  1.3092e+00,  8.6894e-01, -6.9742e-01,\n",
            "         5.1187e-01, -9.6266e-01,  1.3121e+00,  1.9849e-01, -7.1557e-02,\n",
            "         1.7106e+00, -1.3062e+00,  1.4455e+00,  2.2153e-01, -6.6875e-01,\n",
            "         1.1079e+00,  1.9059e-01, -9.2629e-01, -3.2545e-01, -3.9421e-01,\n",
            "        -6.0620e-01, -5.0553e-01,  2.2113e+00,  6.9263e-01,  2.0669e+00,\n",
            "         3.7230e-01, -9.3242e-01, -5.7527e-01,  1.4336e+00, -9.8652e-01,\n",
            "         1.8972e-01, -1.0882e+00,  7.4772e-02,  8.5082e-01,  2.2858e-01,\n",
            "        -1.0810e+00], device='cuda:0', grad_fn=<SqueezeBackward1>)\n"
          ],
          "name": "stdout"
        }
      ]
    },
    {
      "cell_type": "code",
      "metadata": {
        "id": "_l5cPRZZe-R4",
        "colab": {
          "base_uri": "https://localhost:8080/"
        },
        "outputId": "e6dea730-7195-4492-eabd-9d569f623bf1"
      },
      "source": [
        "for word in test_words:\r\n",
        "  input_id = torch.LongTensor([w2i[word]]).to(device)\r\n",
        "  emb = skipgram.embedding(input_id)\r\n",
        "\r\n",
        "  print(f\"Word: {word}\")\r\n",
        "  print(max(emb.squeeze(0)))"
      ],
      "execution_count": null,
      "outputs": [
        {
          "output_type": "stream",
          "text": [
            "Word: 음식\n",
            "tensor(2.5768, device='cuda:0', grad_fn=<UnbindBackward>)\n",
            "Word: 맛\n",
            "tensor(2.4465, device='cuda:0', grad_fn=<UnbindBackward>)\n",
            "Word: 서비스\n",
            "tensor(3.4315, device='cuda:0', grad_fn=<UnbindBackward>)\n",
            "Word: 위생\n",
            "tensor(2.7421, device='cuda:0', grad_fn=<UnbindBackward>)\n",
            "Word: 가격\n",
            "tensor(2.5469, device='cuda:0', grad_fn=<UnbindBackward>)\n"
          ],
          "name": "stdout"
        }
      ]
    },
    {
      "cell_type": "code",
      "metadata": {
        "id": "PmN4IchwisOO"
      },
      "source": [
        ""
      ],
      "execution_count": null,
      "outputs": []
    }
  ]
}